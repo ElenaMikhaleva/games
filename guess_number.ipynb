# a player guesses number from 1 to 10
