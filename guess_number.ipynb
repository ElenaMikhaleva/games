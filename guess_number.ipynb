{
 "cells": [
  {
   "cell_type": "markdown",
   "metadata": {},
   "source": [
    "player guesses number from 1 to 10\n",
    "1. input your guess\n",
    "2. if it's wrong and you want a hint, input 'yes'. If you don't want a hint, input anything else."
   ]
  },
  {
   "cell_type": "code",
   "execution_count": null,
   "metadata": {},
   "outputs": [],
   "source": [
    "import random"
   ]
  },
  {
   "cell_type": "code",
   "execution_count": null,
   "metadata": {},
   "outputs": [],
   "source": [
    "num = random.randint(1, 10)\n",
    "guess = 0\n",
    "\n",
    "while guess != num:\n",
    "    guess = int(input('Your guess is: '))\n",
    "    if guess != num:\n",
    "        print(f'Your guess is {guess}, it\\'s wrong answer.')\n",
    "        hint = input('Do you want a hint?')\n",
    "        if hint == 'YES' or hint == 'yes':\n",
    "            if num > guess:\n",
    "                print(f'Right answer is more than {guess}.')\n",
    "            else:\n",
    "                print(f'Right answer is less than {guess}.')\n",
    "    else:\n",
    "        print('You\\'re right! Answer is:', guess)"
   ]
  }
 ],
 "metadata": {
  "kernelspec": {
   "display_name": "base",
   "language": "python",
   "name": "python3"
  },
  "language_info": {
   "codemirror_mode": {
    "name": "ipython",
    "version": 3
   },
   "file_extension": ".py",
   "mimetype": "text/x-python",
   "name": "python",
   "nbconvert_exporter": "python",
   "pygments_lexer": "ipython3",
   "version": "3.9.13"
  }
 },
 "nbformat": 4,
 "nbformat_minor": 2
}
