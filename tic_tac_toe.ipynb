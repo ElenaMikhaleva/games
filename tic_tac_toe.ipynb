{
 "cells": [
  {
   "cell_type": "code",
   "execution_count": 18,
   "metadata": {},
   "outputs": [],
   "source": [
    "# Tic Tac Toe\n",
    "# 1. you have the field\n",
    "# 3. when it's your turn input row\n",
    "# 4. then input column\n",
    "# 5. continue"
   ]
  },
  {
   "cell_type": "code",
   "execution_count": 20,
   "metadata": {},
   "outputs": [],
   "source": [
    "# player X move\n",
    "def player1_move():\n",
    "    print('Player 1 goes!')\n",
    "    row = int(input())\n",
    "    column = int(input())\n",
    "    print(f'You chose: row {row}, column {column}')\n",
    "    field[row - 1][column - 1] = 'X'\n",
    "    print('\\n'.join([''.join(field[0]), ''.join(field[1]), ''.join(field[2])]))\n",
    "\n",
    "# check if the spot is free\n",
    "# if field[row - 1][column - 1] != 'O' or field[row - 1][column - 1] != 'X':"
   ]
  },
  {
   "cell_type": "code",
   "execution_count": 21,
   "metadata": {},
   "outputs": [],
   "source": [
    "# player O move\n",
    "def player2_move():\n",
    "    print('Player 2 goes!')\n",
    "    row = int(input())\n",
    "    column = int(input())\n",
    "    print(f'You chose: row {row}, column {column}')\n",
    "    field[row - 1][column - 1] = 'O'\n",
    "    print('\\n'.join([''.join(field[0]), ''.join(field[1]), ''.join(field[2])]))"
   ]
  },
  {
   "cell_type": "code",
   "execution_count": null,
   "metadata": {},
   "outputs": [],
   "source": [
    "# winning cases\n",
    "# ..."
   ]
  },
  {
   "cell_type": "code",
   "execution_count": 25,
   "metadata": {},
   "outputs": [
    {
     "name": "stdout",
     "output_type": "stream",
     "text": [
      "Player 1 goes!\n",
      "You chose: row 1, column 3\n",
      "**X\n",
      "***\n",
      "***\n",
      "\n",
      "Player 2 goes!\n",
      "You chose: row 2, column 2\n",
      "**X\n",
      "*O*\n",
      "***\n"
     ]
    }
   ],
   "source": [
    "# game\n",
    "field = [['*', '*', '*'], ['*', '*', '*'], ['*', '*', '*']]\n",
    "\n",
    "player1_move()\n",
    "print()\n",
    "player2_move()\n"
   ]
  }
 ],
 "metadata": {
  "kernelspec": {
   "display_name": "base",
   "language": "python",
   "name": "python3"
  },
  "language_info": {
   "codemirror_mode": {
    "name": "ipython",
    "version": 3
   },
   "file_extension": ".py",
   "mimetype": "text/x-python",
   "name": "python",
   "nbconvert_exporter": "python",
   "pygments_lexer": "ipython3",
   "version": "3.9.13"
  }
 },
 "nbformat": 4,
 "nbformat_minor": 2
}
