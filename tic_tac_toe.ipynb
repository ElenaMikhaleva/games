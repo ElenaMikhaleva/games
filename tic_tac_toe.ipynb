{
 "cells": [
  {
   "cell_type": "code",
   "execution_count": 19,
   "metadata": {},
   "outputs": [],
   "source": [
    "# Tic Tac Toe\n",
    "# 1. you have the field\n",
    "# 3. when it's your turn input row\n",
    "# 4. then input column\n",
    "# 5. continue"
   ]
  },
  {
   "cell_type": "code",
   "execution_count": 20,
   "metadata": {},
   "outputs": [],
   "source": [
    "# player X move\n",
    "def player1_move():\n",
    "    print('Player 1 goes.')\n",
    "    row = int(input())\n",
    "    column = int(input())\n",
    "    print(f'You chose: row {row}, column {column}')\n",
    "    field[row - 1][column - 1] = 'X'\n",
    "    print('\\n'.join([''.join(field[0]), ''.join(field[1]), ''.join(field[2])]))\n",
    "\n",
    "# check if the spot is free\n",
    "# if field[row - 1][column - 1] != 'O' or field[row - 1][column - 1] != 'X':"
   ]
  },
  {
   "cell_type": "code",
   "execution_count": 21,
   "metadata": {},
   "outputs": [],
   "source": [
    "# player O move\n",
    "def player2_move():\n",
    "    print('Player 2 goes.')\n",
    "    row = int(input())\n",
    "    column = int(input())\n",
    "    print(f'You chose: row {row}, column {column}')\n",
    "    field[row - 1][column - 1] = 'O'\n",
    "    print('\\n'.join([''.join(field[0]), ''.join(field[1]), ''.join(field[2])]))"
   ]
  },
  {
   "cell_type": "code",
   "execution_count": 22,
   "metadata": {},
   "outputs": [],
   "source": [
    "# winning cases\n",
    "player1_win = False\n",
    "player2_win = False\n",
    "\n",
    "def winner():\n",
    "    global player1_win\n",
    "    player1_win = (field[0][0] == 'X' and field[0][1] == 'X' and field[0][2] == 'X') or (field[1][0] == 'X' and field[1][1] == 'X' and field[1][2] == 'X') or (field[2][0] == 'X' and field[2][1] == 'X' and field[2][2] == 'X') or (field[0][0] == 'X' and field[1][0] == 'X' and field[2][0] == 'X') or (field[0][1] == 'X' and field[1][1] == 'X' and field[2][1] == 'X') or (field[0][2] == 'X' and field[1][2] == 'X' and field[2][2] == 'X') or (field[0][0] == 'X' and field[1][1] == 'X' and field[2][2] == 'X') or (field[0][2] == 'X' and field[1][1] == 'X' and field[2][0] == 'X')\n",
    "    global player2_win\n",
    "    player2_win = (field[0][0] == 'O' and field[0][1] == 'O' and field[0][2] == 'O') or (field[1][0] == 'O' and field[1][1] == 'O' and field[1][2] == 'O') or (field[2][0] == 'O' and field[2][1] == 'O' and field[2][2] == 'O') or (field[0][0] == 'O' and field[1][0] == 'O' and field[2][0] == 'O') or (field[0][1] == 'O' and field[1][1] == 'O' and field[2][1] == 'O') or (field[0][2] == 'O' and field[1][2] == 'O' and field[2][2] == 'O') or (field[0][0] == 'O' and field[1][1] == 'O' and field[2][2] == 'O') or (field[0][2] == 'O' and field[1][1] == 'O' and field[2][0] == 'O')\n",
    "    if player1_win == True:\n",
    "        print('Player 1 won!')\n",
    "    elif player2_win == True:\n",
    "        print('Player 2 won!')"
   ]
  },
  {
   "cell_type": "code",
   "execution_count": 23,
   "metadata": {},
   "outputs": [
    {
     "name": "stdout",
     "output_type": "stream",
     "text": [
      "Player 1 goes.\n",
      "You chose: row 1, column 1\n",
      "X**\n",
      "***\n",
      "***\n",
      "\n",
      "Player 2 goes.\n",
      "You chose: row 2, column 2\n",
      "X**\n",
      "*O*\n",
      "***\n",
      "\n",
      "Player 1 goes.\n",
      "You chose: row 1, column 2\n",
      "XX*\n",
      "*O*\n",
      "***\n",
      "\n",
      "Player 2 goes.\n",
      "You chose: row 3, column 2\n",
      "XX*\n",
      "*O*\n",
      "*O*\n",
      "\n",
      "Player 1 goes.\n",
      "You chose: row 1, column 3\n",
      "XXX\n",
      "*O*\n",
      "*O*\n",
      "\n",
      "Player 2 goes.\n",
      "You chose: row 3, column 1\n",
      "XXX\n",
      "*O*\n",
      "OO*\n",
      "\n",
      "Player 1 won!\n",
      "Player 1 goes.\n"
     ]
    },
    {
     "ename": "ValueError",
     "evalue": "invalid literal for int() with base 10: ''",
     "output_type": "error",
     "traceback": [
      "\u001b[1;31m---------------------------------------------------------------------------\u001b[0m",
      "\u001b[1;31mValueError\u001b[0m                                Traceback (most recent call last)",
      "\u001b[1;32m~\\AppData\\Local\\Temp\\ipykernel_22332\\1414965352.py\u001b[0m in \u001b[0;36m<module>\u001b[1;34m\u001b[0m\n\u001b[0;32m      3\u001b[0m \u001b[1;33m\u001b[0m\u001b[0m\n\u001b[0;32m      4\u001b[0m \u001b[1;32mwhile\u001b[0m \u001b[0mplayer1_win\u001b[0m \u001b[1;33m!=\u001b[0m \u001b[1;32mTrue\u001b[0m \u001b[1;32mor\u001b[0m \u001b[0mplayer2_win\u001b[0m \u001b[1;33m!=\u001b[0m \u001b[1;32mTrue\u001b[0m\u001b[1;33m:\u001b[0m\u001b[1;33m\u001b[0m\u001b[1;33m\u001b[0m\u001b[0m\n\u001b[1;32m----> 5\u001b[1;33m     \u001b[0mplayer1_move\u001b[0m\u001b[1;33m(\u001b[0m\u001b[1;33m)\u001b[0m\u001b[1;33m\u001b[0m\u001b[1;33m\u001b[0m\u001b[0m\n\u001b[0m\u001b[0;32m      6\u001b[0m     \u001b[0mprint\u001b[0m\u001b[1;33m(\u001b[0m\u001b[1;33m)\u001b[0m\u001b[1;33m\u001b[0m\u001b[1;33m\u001b[0m\u001b[0m\n\u001b[0;32m      7\u001b[0m     \u001b[0mplayer2_move\u001b[0m\u001b[1;33m(\u001b[0m\u001b[1;33m)\u001b[0m\u001b[1;33m\u001b[0m\u001b[1;33m\u001b[0m\u001b[0m\n",
      "\u001b[1;32m~\\AppData\\Local\\Temp\\ipykernel_22332\\1373159620.py\u001b[0m in \u001b[0;36mplayer1_move\u001b[1;34m()\u001b[0m\n\u001b[0;32m      2\u001b[0m \u001b[1;32mdef\u001b[0m \u001b[0mplayer1_move\u001b[0m\u001b[1;33m(\u001b[0m\u001b[1;33m)\u001b[0m\u001b[1;33m:\u001b[0m\u001b[1;33m\u001b[0m\u001b[1;33m\u001b[0m\u001b[0m\n\u001b[0;32m      3\u001b[0m     \u001b[0mprint\u001b[0m\u001b[1;33m(\u001b[0m\u001b[1;34m'Player 1 goes.'\u001b[0m\u001b[1;33m)\u001b[0m\u001b[1;33m\u001b[0m\u001b[1;33m\u001b[0m\u001b[0m\n\u001b[1;32m----> 4\u001b[1;33m     \u001b[0mrow\u001b[0m \u001b[1;33m=\u001b[0m \u001b[0mint\u001b[0m\u001b[1;33m(\u001b[0m\u001b[0minput\u001b[0m\u001b[1;33m(\u001b[0m\u001b[1;33m)\u001b[0m\u001b[1;33m)\u001b[0m\u001b[1;33m\u001b[0m\u001b[1;33m\u001b[0m\u001b[0m\n\u001b[0m\u001b[0;32m      5\u001b[0m     \u001b[0mcolumn\u001b[0m \u001b[1;33m=\u001b[0m \u001b[0mint\u001b[0m\u001b[1;33m(\u001b[0m\u001b[0minput\u001b[0m\u001b[1;33m(\u001b[0m\u001b[1;33m)\u001b[0m\u001b[1;33m)\u001b[0m\u001b[1;33m\u001b[0m\u001b[1;33m\u001b[0m\u001b[0m\n\u001b[0;32m      6\u001b[0m     \u001b[0mprint\u001b[0m\u001b[1;33m(\u001b[0m\u001b[1;34mf'You chose: row {row}, column {column}'\u001b[0m\u001b[1;33m)\u001b[0m\u001b[1;33m\u001b[0m\u001b[1;33m\u001b[0m\u001b[0m\n",
      "\u001b[1;31mValueError\u001b[0m: invalid literal for int() with base 10: ''"
     ]
    }
   ],
   "source": [
    "# game\n",
    "field = [['*', '*', '*'], ['*', '*', '*'], ['*', '*', '*']]\n",
    "\n",
    "while player1_win != True or player2_win != True:\n",
    "    player1_move()\n",
    "    print()\n",
    "    player2_move()\n",
    "    print()\n",
    "    winner()"
   ]
  }
 ],
 "metadata": {
  "kernelspec": {
   "display_name": "base",
   "language": "python",
   "name": "python3"
  },
  "language_info": {
   "codemirror_mode": {
    "name": "ipython",
    "version": 3
   },
   "file_extension": ".py",
   "mimetype": "text/x-python",
   "name": "python",
   "nbconvert_exporter": "python",
   "pygments_lexer": "ipython3",
   "version": "3.9.13"
  }
 },
 "nbformat": 4,
 "nbformat_minor": 2
}
