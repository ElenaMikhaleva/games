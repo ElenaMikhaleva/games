{
 "cells": [
  {
   "cell_type": "markdown",
   "metadata": {},
   "source": [
    "rock-paper-scissors\n",
    "1. input rock, paper or scissors\n",
    "2. to exit instead of input click enter"
   ]
  },
  {
   "cell_type": "code",
   "execution_count": 6,
   "metadata": {},
   "outputs": [],
   "source": [
    "import random"
   ]
  },
  {
   "cell_type": "code",
   "execution_count": 13,
   "metadata": {},
   "outputs": [
    {
     "name": "stdout",
     "output_type": "stream",
     "text": [
      "scissors > paper. You lost :(\n",
      "paper < scissors. You win!\n",
      "There's some mistake.\n"
     ]
    }
   ],
   "source": [
    "options = ['rock', 'paper', 'scissors']\n",
    "\n",
    "player = input('Rock, paper or scissors?').lower()\n",
    "\n",
    "while player != '':\n",
    "    computer = random.choice(options)\n",
    "    if player == 'rock' or player == 'paper' or player == 'scissors':\n",
    "        if computer == 'rock':\n",
    "            if player == 'scissors':\n",
    "                print('rock > scissors. You lost :(')\n",
    "            elif player == 'paper':\n",
    "                print('rock < paper. You win!')\n",
    "            else:\n",
    "                print('rock == rock. Tie')\n",
    "        elif computer == 'scissors':\n",
    "            if player == 'scissors':\n",
    "                print('scissors == scissors. Tie')\n",
    "            elif player == 'paper':\n",
    "                print('scissors > paper. You lost :(')\n",
    "            else:\n",
    "                print('scissors < rock. You win!')\n",
    "        else:\n",
    "            if player == 'scissors':\n",
    "                print('paper < scissors. You win!')\n",
    "            elif player == 'paper':\n",
    "                print('paper == paper. Tie')\n",
    "            else:\n",
    "                print('paper > rock. You lost :(')\n",
    "    else:\n",
    "        print('There\\'s some mistake.')\n",
    "    player = input('Rock, paper or scissors?').lower()"
   ]
  }
 ],
 "metadata": {
  "kernelspec": {
   "display_name": "base",
   "language": "python",
   "name": "python3"
  },
  "language_info": {
   "codemirror_mode": {
    "name": "ipython",
    "version": 3
   },
   "file_extension": ".py",
   "mimetype": "text/x-python",
   "name": "python",
   "nbconvert_exporter": "python",
   "pygments_lexer": "ipython3",
   "version": "3.9.13"
  }
 },
 "nbformat": 4,
 "nbformat_minor": 2
}
